{
 "cells": [
  {
   "cell_type": "markdown",
   "metadata": {},
   "source": [
    "### Data Load"
   ]
  },
  {
   "cell_type": "code",
   "execution_count": 1,
   "metadata": {},
   "outputs": [
    {
     "data": {
      "text/plain": [
       "<torch._C.Generator at 0x2404ec949b0>"
      ]
     },
     "execution_count": 1,
     "metadata": {},
     "output_type": "execute_result"
    }
   ],
   "source": [
    "import numpy as np\n",
    "import pandas as pd\n",
    "import torch\n",
    "import torch.nn as nn\n",
    "\n",
    "import os\n",
    "from sklearn.preprocessing import MinMaxScaler\n",
    "from sklearn.model_selection import GridSearchCV\n",
    "from sklearn.metrics import mean_squared_error\n",
    "import matplotlib.pyplot as plt\n",
    "\n",
    "%matplotlib inline\n",
    "\n",
    "np.random.seed(0)\n",
    "torch.manual_seed(0)"
   ]
  },
  {
   "cell_type": "code",
   "execution_count": 2,
   "metadata": {},
   "outputs": [],
   "source": [
    "gs = pd.read_csv('.csv', encoding = 'EUC-KR')"
   ]
  },
  {
   "cell_type": "code",
   "execution_count": 3,
   "metadata": {},
   "outputs": [
    {
     "name": "stdout",
     "output_type": "stream",
     "text": [
      "<class 'pandas.core.frame.DataFrame'>\n",
      "RangeIndex: 35 entries, 0 to 34\n",
      "Data columns (total 28 columns):\n",
      " #   Column    Non-Null Count  Dtype  \n",
      "---  ------    --------------  -----  \n",
      " 0   회사명       35 non-null     object \n",
      " 1   연도        35 non-null     int64  \n",
      " 2   거래소코드     35 non-null     int64  \n",
      " 3   회계년도      35 non-null     object \n",
      " 4   자산총계(요약)  35 non-null     int64  \n",
      " 5   부채총계      35 non-null     int64  \n",
      " 6   자본총계      35 non-null     int64  \n",
      " 7   매출액       35 non-null     int64  \n",
      " 8   매출원가      35 non-null     int64  \n",
      " 9   매출총이익     35 non-null     int64  \n",
      " 10  판매비와 관리비  35 non-null     int64  \n",
      " 11  영업이익      35 non-null     int64  \n",
      " 12  당기순이익     35 non-null     int64  \n",
      " 13  유동자산      35 non-null     int64  \n",
      " 14  유동부채      35 non-null     int64  \n",
      " 15  비유동부채     35 non-null     int64  \n",
      " 16  자본금       35 non-null     int64  \n",
      " 17  비유동자산     35 non-null     int64  \n",
      " 18  총자산수익률    35 non-null     float64\n",
      " 19  자기자본수익률   35 non-null     float64\n",
      " 20  영업이익률     35 non-null     float64\n",
      " 21  당기순이익률    35 non-null     float64\n",
      " 22  유동비율      35 non-null     float64\n",
      " 23  자기자본비율    35 non-null     float64\n",
      " 24  부채비용      35 non-null     float64\n",
      " 25  비유동비율     35 non-null     float64\n",
      " 26  비유동장기적합률  35 non-null     float64\n",
      " 27  영업이익_차분   34 non-null     float64\n",
      "dtypes: float64(10), int64(16), object(2)\n",
      "memory usage: 7.8+ KB\n"
     ]
    }
   ],
   "source": [
    "gs.info()"
   ]
  },
  {
   "cell_type": "code",
   "execution_count": 20,
   "metadata": {},
   "outputs": [],
   "source": [
    "def find_upper_lower_bound(col):\n",
    "    temp = sorted(df[col])\n",
    "    q1, q3 = np.percentile(temp, [25, 75])\n",
    "    iqr = q3 - q1\n",
    "    lower_bound = q1 - (1.5 * iqr)\n",
    "    upper_bound = q3 + (1.5 * iqr)\n",
    "    return lower_bound, upper_bound"
   ]
  },
  {
   "cell_type": "code",
   "execution_count": 21,
   "metadata": {},
   "outputs": [],
   "source": [
    "def range_check_correct(df,col):\n",
    "    cor_range = find_upper_lower_bound(col)\n",
    "    print(cor_range)\n",
    "    for i in df.index:\n",
    "        if df.loc[i][col] < (float)(cor_range[0]) :\n",
    "            df[col][i] = (float)(cor_range[0])\n",
    "        if df.loc[i][col] > (float)(cor_range[1]) :\n",
    "            df[col][i] = (float)(cor_range[1])\n",
    "    return df"
   ]
  },
  {
   "cell_type": "code",
   "execution_count": 22,
   "metadata": {},
   "outputs": [
    {
     "name": "stdout",
     "output_type": "stream",
     "text": [
      "(-2109632.5, 3674507.5)\n"
     ]
    }
   ],
   "source": [
    "df = range_check_correct(df, '영업이익')"
   ]
  },
  {
   "cell_type": "code",
   "execution_count": 23,
   "metadata": {},
   "outputs": [
    {
     "data": {
      "text/html": [
       "<div>\n",
       "<style scoped>\n",
       "    .dataframe tbody tr th:only-of-type {\n",
       "        vertical-align: middle;\n",
       "    }\n",
       "\n",
       "    .dataframe tbody tr th {\n",
       "        vertical-align: top;\n",
       "    }\n",
       "\n",
       "    .dataframe thead th {\n",
       "        text-align: right;\n",
       "    }\n",
       "</style>\n",
       "<table border=\"1\" class=\"dataframe\">\n",
       "  <thead>\n",
       "    <tr style=\"text-align: right;\">\n",
       "      <th></th>\n",
       "      <th>자본총계</th>\n",
       "      <th>당기순이익</th>\n",
       "      <th>부채총계</th>\n",
       "      <th>매출총이익</th>\n",
       "      <th>영업이익</th>\n",
       "    </tr>\n",
       "  </thead>\n",
       "  <tbody>\n",
       "    <tr>\n",
       "      <th>0</th>\n",
       "      <td>50032</td>\n",
       "      <td>1672</td>\n",
       "      <td>265088</td>\n",
       "      <td>20548</td>\n",
       "      <td>2244</td>\n",
       "    </tr>\n",
       "    <tr>\n",
       "      <th>1</th>\n",
       "      <td>52840</td>\n",
       "      <td>2452</td>\n",
       "      <td>272348</td>\n",
       "      <td>36021</td>\n",
       "      <td>10583</td>\n",
       "    </tr>\n",
       "    <tr>\n",
       "      <th>2</th>\n",
       "      <td>55381</td>\n",
       "      <td>2523</td>\n",
       "      <td>346239</td>\n",
       "      <td>39006</td>\n",
       "      <td>12977</td>\n",
       "    </tr>\n",
       "    <tr>\n",
       "      <th>3</th>\n",
       "      <td>55925</td>\n",
       "      <td>7068</td>\n",
       "      <td>360890</td>\n",
       "      <td>41514</td>\n",
       "      <td>17345</td>\n",
       "    </tr>\n",
       "    <tr>\n",
       "      <th>4</th>\n",
       "      <td>183125</td>\n",
       "      <td>14289</td>\n",
       "      <td>486974</td>\n",
       "      <td>75470</td>\n",
       "      <td>44101</td>\n",
       "    </tr>\n",
       "    <tr>\n",
       "      <th>5</th>\n",
       "      <td>229293</td>\n",
       "      <td>17414</td>\n",
       "      <td>662586</td>\n",
       "      <td>97313</td>\n",
       "      <td>59425</td>\n",
       "    </tr>\n",
       "    <tr>\n",
       "      <th>6</th>\n",
       "      <td>229490</td>\n",
       "      <td>10219</td>\n",
       "      <td>1088274</td>\n",
       "      <td>104746</td>\n",
       "      <td>59415</td>\n",
       "    </tr>\n",
       "    <tr>\n",
       "      <th>7</th>\n",
       "      <td>232680</td>\n",
       "      <td>5550</td>\n",
       "      <td>1229340</td>\n",
       "      <td>143773</td>\n",
       "      <td>89192</td>\n",
       "    </tr>\n",
       "    <tr>\n",
       "      <th>8</th>\n",
       "      <td>238280</td>\n",
       "      <td>-48947</td>\n",
       "      <td>1392061</td>\n",
       "      <td>71118</td>\n",
       "      <td>10744</td>\n",
       "    </tr>\n",
       "    <tr>\n",
       "      <th>9</th>\n",
       "      <td>287286</td>\n",
       "      <td>18558</td>\n",
       "      <td>1467188</td>\n",
       "      <td>158047</td>\n",
       "      <td>91651</td>\n",
       "    </tr>\n",
       "    <tr>\n",
       "      <th>10</th>\n",
       "      <td>311178</td>\n",
       "      <td>23267</td>\n",
       "      <td>1777628</td>\n",
       "      <td>188999</td>\n",
       "      <td>94847</td>\n",
       "    </tr>\n",
       "    <tr>\n",
       "      <th>11</th>\n",
       "      <td>313749</td>\n",
       "      <td>20139</td>\n",
       "      <td>2024282</td>\n",
       "      <td>233400</td>\n",
       "      <td>120306</td>\n",
       "    </tr>\n",
       "    <tr>\n",
       "      <th>12</th>\n",
       "      <td>437638</td>\n",
       "      <td>12472</td>\n",
       "      <td>2322305</td>\n",
       "      <td>290231</td>\n",
       "      <td>158480</td>\n",
       "    </tr>\n",
       "    <tr>\n",
       "      <th>13</th>\n",
       "      <td>700259</td>\n",
       "      <td>-89832</td>\n",
       "      <td>2634099</td>\n",
       "      <td>253604</td>\n",
       "      <td>37883</td>\n",
       "    </tr>\n",
       "    <tr>\n",
       "      <th>14</th>\n",
       "      <td>633022</td>\n",
       "      <td>21717</td>\n",
       "      <td>761735</td>\n",
       "      <td>109261</td>\n",
       "      <td>-5721</td>\n",
       "    </tr>\n",
       "    <tr>\n",
       "      <th>15</th>\n",
       "      <td>622481</td>\n",
       "      <td>113138</td>\n",
       "      <td>1779816</td>\n",
       "      <td>422715</td>\n",
       "      <td>202527</td>\n",
       "    </tr>\n",
       "    <tr>\n",
       "      <th>16</th>\n",
       "      <td>936194</td>\n",
       "      <td>274417</td>\n",
       "      <td>1756989</td>\n",
       "      <td>723651</td>\n",
       "      <td>357439</td>\n",
       "    </tr>\n",
       "    <tr>\n",
       "      <th>17</th>\n",
       "      <td>1388128</td>\n",
       "      <td>403348</td>\n",
       "      <td>1874854</td>\n",
       "      <td>861724</td>\n",
       "      <td>426419</td>\n",
       "    </tr>\n",
       "    <tr>\n",
       "      <th>18</th>\n",
       "      <td>1808346</td>\n",
       "      <td>550631</td>\n",
       "      <td>1977046</td>\n",
       "      <td>1115401</td>\n",
       "      <td>606799</td>\n",
       "    </tr>\n",
       "    <tr>\n",
       "      <th>19</th>\n",
       "      <td>2318185</td>\n",
       "      <td>695254</td>\n",
       "      <td>2341097</td>\n",
       "      <td>1371541</td>\n",
       "      <td>751783</td>\n",
       "    </tr>\n",
       "    <tr>\n",
       "      <th>20</th>\n",
       "      <td>2981943</td>\n",
       "      <td>831263</td>\n",
       "      <td>2472205</td>\n",
       "      <td>1470219</td>\n",
       "      <td>786050</td>\n",
       "    </tr>\n",
       "    <tr>\n",
       "      <th>21</th>\n",
       "      <td>3539075</td>\n",
       "      <td>686750</td>\n",
       "      <td>2671925</td>\n",
       "      <td>1543708</td>\n",
       "      <td>816635</td>\n",
       "    </tr>\n",
       "    <tr>\n",
       "      <th>22</th>\n",
       "      <td>4250860</td>\n",
       "      <td>776675</td>\n",
       "      <td>2526759</td>\n",
       "      <td>1593647</td>\n",
       "      <td>824522</td>\n",
       "    </tr>\n",
       "    <tr>\n",
       "      <th>23</th>\n",
       "      <td>5403141</td>\n",
       "      <td>1089995</td>\n",
       "      <td>2345682</td>\n",
       "      <td>2084644</td>\n",
       "      <td>1186580</td>\n",
       "    </tr>\n",
       "    <tr>\n",
       "      <th>24</th>\n",
       "      <td>7850128</td>\n",
       "      <td>1615220</td>\n",
       "      <td>3339531</td>\n",
       "      <td>2535071</td>\n",
       "      <td>1422294</td>\n",
       "    </tr>\n",
       "    <tr>\n",
       "      <th>25</th>\n",
       "      <td>10175322</td>\n",
       "      <td>2423295</td>\n",
       "      <td>3688515</td>\n",
       "      <td>3176819</td>\n",
       "      <td>1803290</td>\n",
       "    </tr>\n",
       "    <tr>\n",
       "      <th>26</th>\n",
       "      <td>11278544</td>\n",
       "      <td>1742742</td>\n",
       "      <td>5247910</td>\n",
       "      <td>3165427</td>\n",
       "      <td>2139542</td>\n",
       "    </tr>\n",
       "    <tr>\n",
       "      <th>27</th>\n",
       "      <td>13412627</td>\n",
       "      <td>2251252</td>\n",
       "      <td>4827517</td>\n",
       "      <td>3445093</td>\n",
       "      <td>2312366</td>\n",
       "    </tr>\n",
       "    <tr>\n",
       "      <th>28</th>\n",
       "      <td>15316261</td>\n",
       "      <td>2079630</td>\n",
       "      <td>4572806</td>\n",
       "      <td>3456786</td>\n",
       "      <td>2269798</td>\n",
       "    </tr>\n",
       "    <tr>\n",
       "      <th>29</th>\n",
       "      <td>17174637</td>\n",
       "      <td>2138479</td>\n",
       "      <td>4613329</td>\n",
       "      <td>3274567</td>\n",
       "      <td>1913897</td>\n",
       "    </tr>\n",
       "    <tr>\n",
       "      <th>30</th>\n",
       "      <td>18333205</td>\n",
       "      <td>1707372</td>\n",
       "      <td>4504739</td>\n",
       "      <td>3435415</td>\n",
       "      <td>1920841</td>\n",
       "    </tr>\n",
       "    <tr>\n",
       "      <th>31</th>\n",
       "      <td>20095295</td>\n",
       "      <td>2035284</td>\n",
       "      <td>4667721</td>\n",
       "      <td>3627975</td>\n",
       "      <td>2038103</td>\n",
       "    </tr>\n",
       "    <tr>\n",
       "      <th>32</th>\n",
       "      <td>21232895</td>\n",
       "      <td>1427449</td>\n",
       "      <td>4129478</td>\n",
       "      <td>3104599</td>\n",
       "      <td>1462500</td>\n",
       "    </tr>\n",
       "    <tr>\n",
       "      <th>33</th>\n",
       "      <td>22406357</td>\n",
       "      <td>1559849</td>\n",
       "      <td>4771400</td>\n",
       "      <td>3304520</td>\n",
       "      <td>1548410</td>\n",
       "    </tr>\n",
       "    <tr>\n",
       "      <th>34</th>\n",
       "      <td>23500426</td>\n",
       "      <td>1906368</td>\n",
       "      <td>6299872</td>\n",
       "      <td>3635680</td>\n",
       "      <td>1679617</td>\n",
       "    </tr>\n",
       "  </tbody>\n",
       "</table>\n",
       "</div>"
      ],
      "text/plain": [
       "        자본총계    당기순이익     부채총계    매출총이익     영업이익\n",
       "0      50032     1672   265088    20548     2244\n",
       "1      52840     2452   272348    36021    10583\n",
       "2      55381     2523   346239    39006    12977\n",
       "3      55925     7068   360890    41514    17345\n",
       "4     183125    14289   486974    75470    44101\n",
       "5     229293    17414   662586    97313    59425\n",
       "6     229490    10219  1088274   104746    59415\n",
       "7     232680     5550  1229340   143773    89192\n",
       "8     238280   -48947  1392061    71118    10744\n",
       "9     287286    18558  1467188   158047    91651\n",
       "10    311178    23267  1777628   188999    94847\n",
       "11    313749    20139  2024282   233400   120306\n",
       "12    437638    12472  2322305   290231   158480\n",
       "13    700259   -89832  2634099   253604    37883\n",
       "14    633022    21717   761735   109261    -5721\n",
       "15    622481   113138  1779816   422715   202527\n",
       "16    936194   274417  1756989   723651   357439\n",
       "17   1388128   403348  1874854   861724   426419\n",
       "18   1808346   550631  1977046  1115401   606799\n",
       "19   2318185   695254  2341097  1371541   751783\n",
       "20   2981943   831263  2472205  1470219   786050\n",
       "21   3539075   686750  2671925  1543708   816635\n",
       "22   4250860   776675  2526759  1593647   824522\n",
       "23   5403141  1089995  2345682  2084644  1186580\n",
       "24   7850128  1615220  3339531  2535071  1422294\n",
       "25  10175322  2423295  3688515  3176819  1803290\n",
       "26  11278544  1742742  5247910  3165427  2139542\n",
       "27  13412627  2251252  4827517  3445093  2312366\n",
       "28  15316261  2079630  4572806  3456786  2269798\n",
       "29  17174637  2138479  4613329  3274567  1913897\n",
       "30  18333205  1707372  4504739  3435415  1920841\n",
       "31  20095295  2035284  4667721  3627975  2038103\n",
       "32  21232895  1427449  4129478  3104599  1462500\n",
       "33  22406357  1559849  4771400  3304520  1548410\n",
       "34  23500426  1906368  6299872  3635680  1679617"
      ]
     },
     "execution_count": 23,
     "metadata": {},
     "output_type": "execute_result"
    }
   ],
   "source": [
    "df"
   ]
  },
  {
   "cell_type": "code",
   "execution_count": 25,
   "metadata": {},
   "outputs": [
    {
     "data": {
      "image/png": "[encoded data removed]",
      "text/plain": [
       "<Figure size 432x288 with 1 Axes>"
      ]
     },
     "metadata": {
      "needs_background": "light"
     },
     "output_type": "display_data"
    }
   ],
   "source": [
    "x = gs['회계년도']\n",
    "plt.title('GS')\n",
    "plt.ylabel('Gain')\n",
    "plt.grid(True)\n",
    "plt.autoscale(axis='x', tight=True)\n",
    "plt.rcParams['font.family'] = 'NanumGothic'\n",
    "plt.plot(x,gs['영업이익'])\n",
    "plt.show()"
   ]
  },
  {
   "cell_type": "markdown",
   "metadata": {},
   "source": [
    "## LSTM + F.C"
   ]
  },
  {
   "cell_type": "markdown",
   "metadata": {},
   "source": [
    "### Data_setting"
   ]
  },
  {
   "cell_type": "code",
   "execution_count": 5,
   "metadata": {},
   "outputs": [],
   "source": [
    "def data_setting(df):\n",
    "    df = df.values.astype(float)\n",
    "\n",
    "    test_data_size = 1\n",
    "    train_data = df[:-test_data_size]\n",
    "    test_data = df[-test_data_size:]\n",
    "    \n",
    "    scaler = MinMaxScaler(feature_range=(-1, 1))\n",
    "    \n",
    "    train_data_normalized = scaler.fit_transform(train_data .reshape(-1, 1))\n",
    "    train_data_normalized = torch.FloatTensor(train_data_normalized).view(-1)\n",
    "    \n",
    "    return train_data_normalized, test_data, scaler"
   ]
  },
  {
   "cell_type": "markdown",
   "metadata": {},
   "source": [
    "### Create_inout_sequences\n",
    "in : train_data_normalized, feature_window, period\n",
    "1. LSTM에 들어갈 input data를 데이터 주기와 피쳐수를 기반으로 sequence를 생성\n",
    "\n",
    "out : sequence"
   ]
  },
  {
   "cell_type": "code",
   "execution_count": 6,
   "metadata": {},
   "outputs": [],
   "source": [
    "def create_inout_sequences(input_data, fw, period):\n",
    "    inout_seq = []\n",
    "    L = len(input_data)\n",
    "    \n",
    "    for i in range(0, L-period*fw, fw):\n",
    "        train_seq = input_data[i:i+period*fw]\n",
    "        train_label = input_data[i+(period+1)*fw-1:i+(period+1)*fw]\n",
    "        inout_seq.append((train_seq ,train_label))\n",
    "        \n",
    "    return inout_seq"
   ]
  },
  {
   "cell_type": "markdown",
   "metadata": {},
   "source": [
    "### LSTM+F.C"
   ]
  },
  {
   "cell_type": "code",
   "execution_count": 7,
   "metadata": {},
   "outputs": [],
   "source": [
    "class LSTM(nn.Module):\n",
    "    \n",
    "    def __init__(self, fw, period, layers, hidden_layer_size = 250, output_size = 1):\n",
    "        super().__init__()\n",
    "        self.input_size = fw\n",
    "        self.hidden_layer_size = hidden_layer_size\n",
    "        self.output_size = output_size\n",
    "        self.period = period\n",
    "        self.layers = layers\n",
    "\n",
    "\n",
    "        self.lstm = nn.LSTM(self.input_size, self.hidden_layer_size, num_layers = layers)\n",
    "\n",
    "        self.linear = nn.Sequential(\n",
    "            nn.Linear(hidden_layer_size, 50),\n",
    "            nn.Linear(50, self.output_size)\n",
    "        )\n",
    "\n",
    "        self.hidden_cell = (torch.zeros(layers,period,hidden_layer_size),\n",
    "                       torch.zeros(layers,period,hidden_layer_size))\n",
    "\n",
    "    def forward(self, input_seq):\n",
    "        lstm_out, _ = self.lstm(input_seq.view(-1 ,self.period, self.input_size), self.hidden_cell) \n",
    "        predictions = self.linear(lstm_out.view(self.period, self.hidden_layer_size))\n",
    "        return predictions[-self.output_size:]"
   ]
  },
  {
   "cell_type": "code",
   "execution_count": 8,
   "metadata": {},
   "outputs": [],
   "source": [
    "train_window = 5\n",
    "period = 3\n",
    "learning_rate = 0.01\n",
    "layers = 3"
   ]
  },
  {
   "cell_type": "code",
   "execution_count": 9,
   "metadata": {},
   "outputs": [],
   "source": [
    "df = gs.loc[:,['자본총계', '당기순이익', '부채총계', '매출총이익', '영업이익']]\n",
    "train_data_normalized,test_data,scaler = data_setting(df)\n",
    "train_inout_seq = create_inout_sequences(train_data_normalized, train_window, period)"
   ]
  },
  {
   "cell_type": "code",
   "execution_count": 10,
   "metadata": {},
   "outputs": [],
   "source": [
    "model = LSTM(train_window,period, layers)"
   ]
  },
  {
   "cell_type": "code",
   "execution_count": 11,
   "metadata": {},
   "outputs": [
    {
     "name": "stdout",
     "output_type": "stream",
     "text": [
      "epoch:   1 loss: 0.01076893\n",
      "epoch:  26 loss: 0.00720659\n",
      "epoch:  51 loss: 0.00155022\n",
      "epoch:  76 loss: 0.00014905\n",
      "epoch: 101 loss: 0.01763167\n",
      "epoch: 126 loss: 0.00303953\n",
      "epoch: 151 loss: 0.01616964\n",
      "epoch: 176 loss: 0.01435716\n",
      "epoch: 201 loss: 0.01256601\n",
      "epoch: 226 loss: 0.00558108\n",
      "epoch: 251 loss: 0.01228831\n",
      "epoch: 276 loss: 0.00840215\n",
      "epoch: 301 loss: 0.01408029\n",
      "epoch: 326 loss: 0.01419612\n",
      "epoch: 351 loss: 0.01188700\n",
      "epoch: 376 loss: 0.01024128\n",
      "epoch: 401 loss: 0.00929792\n",
      "epoch: 426 loss: 0.01095466\n",
      "epoch: 451 loss: 0.01005101\n",
      "epoch: 476 loss: 0.01021541\n",
      "epoch: 499 loss: 0.0108045293\n"
     ]
    }
   ],
   "source": [
    "loss_function = torch.nn.MSELoss()\n",
    "optimizer = torch.optim.Adam(model.parameters(), lr=learning_rate)\n",
    "\n",
    "epochs = 500\n",
    "\n",
    "for i in range(epochs):\n",
    "    for seq, labels in train_inout_seq:\n",
    "        optimizer.zero_grad()\n",
    "        y_pred = model(seq)[0]\n",
    "        single_loss = loss_function(y_pred, labels)\n",
    "        single_loss.backward()\n",
    "        optimizer.step()\n",
    "\n",
    "    if i%25 == 1:\n",
    "        print(f'epoch: {i:3} loss: {single_loss.item():10.8f}')\n",
    "\n",
    "print(f'epoch: {i:3} loss: {single_loss.item():10.10f}')"
   ]
  },
  {
   "cell_type": "code",
   "execution_count": 12,
   "metadata": {},
   "outputs": [],
   "source": [
    "fut_pred = 1\n",
    "test_inputs = train_data_normalized[-period*train_window:].tolist()"
   ]
  },
  {
   "cell_type": "code",
   "execution_count": 13,
   "metadata": {},
   "outputs": [
    {
     "data": {
      "text/plain": [
       "15"
      ]
     },
     "execution_count": 13,
     "metadata": {},
     "output_type": "execute_result"
    }
   ],
   "source": [
    "len(test_inputs)"
   ]
  },
  {
   "cell_type": "code",
   "execution_count": 14,
   "metadata": {},
   "outputs": [],
   "source": [
    "model.eval()\n",
    "\n",
    "for i in [1]:\n",
    "    seq = torch.FloatTensor(test_inputs[-period*train_window:])\n",
    "    pred = model(seq)\n",
    "    with torch.no_grad():\n",
    "        test_inputs.append(float(model(seq)[-1]))"
   ]
  },
  {
   "cell_type": "code",
   "execution_count": 15,
   "metadata": {},
   "outputs": [],
   "source": [
    "actual_predictions = scaler.inverse_transform(np.array(test_inputs[-fut_pred:]).reshape(-1, 1))\n",
    "ans = gs['영업이익'][-5:]"
   ]
  },
  {
   "cell_type": "code",
   "execution_count": 16,
   "metadata": {},
   "outputs": [
    {
     "data": {
      "text/plain": [
       "array([2818262.80566979])"
      ]
     },
     "execution_count": 16,
     "metadata": {},
     "output_type": "execute_result"
    }
   ],
   "source": [
    "actual_predictions[0]"
   ]
  },
  {
   "cell_type": "code",
   "execution_count": 17,
   "metadata": {},
   "outputs": [
    {
     "data": {
      "text/plain": [
       "34    1679617\n",
       "Name: 영업이익, dtype: int64"
      ]
     },
     "execution_count": 17,
     "metadata": {},
     "output_type": "execute_result"
    }
   ],
   "source": [
    "ans[-1:]"
   ]
  },
  {
   "cell_type": "code",
   "execution_count": 18,
   "metadata": {},
   "outputs": [],
   "source": [
    "RMSE = mean_squared_error(ans[-1:],actual_predictions[0])**0.5"
   ]
  },
  {
   "cell_type": "code",
   "execution_count": 19,
   "metadata": {},
   "outputs": [
    {
     "data": {
      "text/plain": [
       "1138645.805669785"
      ]
     },
     "execution_count": 19,
     "metadata": {},
     "output_type": "execute_result"
    }
   ],
   "source": [
    "RMSE"
   ]
  },
  {
   "cell_type": "code",
   "execution_count": null,
   "metadata": {},
   "outputs": [],
   "source": []
  }
 ],
 "metadata": {
  "kernelspec": {
   "display_name": "Python 3",
   "language": "python",
   "name": "python3"
  },
  "language_info": {
   "codemirror_mode": {
    "name": "ipython",
    "version": 3
   },
   "file_extension": ".py",
   "mimetype": "text/x-python",
   "name": "python",
   "nbconvert_exporter": "python",
   "pygments_lexer": "ipython3",
   "version": "3.7.9"
  }
 },
 "nbformat": 4,
 "nbformat_minor": 4
}
