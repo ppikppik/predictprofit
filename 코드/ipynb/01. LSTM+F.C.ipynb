{
 "cells": [
  {
   "cell_type": "markdown",
   "metadata": {},
   "source": [
    "### Data Load"
   ]
  },
  {
   "cell_type": "code",
   "execution_count": 2,
   "metadata": {},
   "outputs": [
    {
     "data": {
      "text/plain": [
       "<torch._C.Generator at 0x219d5e5aa30>"
      ]
     },
     "execution_count": 2,
     "metadata": {},
     "output_type": "execute_result"
    }
   ],
   "source": [
    "import numpy as np\n",
    "import pandas as pd\n",
    "import torch\n",
    "import torch.nn as nn\n",
    "\n",
    "import os\n",
    "from sklearn.preprocessing import MinMaxScaler\n",
    "from sklearn.model_selection import GridSearchCV\n",
    "from sklearn.metrics import mean_squared_error\n",
    "import matplotlib.pyplot as plt\n",
    "\n",
    "%matplotlib inline\n",
    "\n",
    "np.random.seed(0)\n",
    "torch.manual_seed(0)"
   ]
  },
  {
   "cell_type": "code",
   "execution_count": 40,
   "metadata": {},
   "outputs": [],
   "source": [
    "gs = pd.read_csv('gs_boo.csv', encoding = 'EUC-KR')\n",
    "gs"
   ]
  },
  {
   "cell_type": "code",
   "execution_count": 41,
   "metadata": {},
   "outputs": [
    {
     "name": "stdout",
     "output_type": "stream",
     "text": [
      "<class 'pandas.core.frame.DataFrame'>\n",
      "RangeIndex: 39 entries, 0 to 38\n",
      "Data columns (total 16 columns):\n",
      " #   Column    Non-Null Count  Dtype  \n",
      "---  ------    --------------  -----  \n",
      " 0   회사명       39 non-null     object \n",
      " 1   거래소코드     39 non-null     int64  \n",
      " 2   회계년도      39 non-null     object \n",
      " 3   자산총계      39 non-null     int64  \n",
      " 4   부채총계      39 non-null     int64  \n",
      " 5   자본총계      39 non-null     int64  \n",
      " 6   매출액       39 non-null     int64  \n",
      " 7   매출원가      39 non-null     int64  \n",
      " 8   매출총이익     39 non-null     int64  \n",
      " 9   판매비와 관리비  39 non-null     int64  \n",
      " 10  영업이익      39 non-null     int64  \n",
      " 11  당기순이익     39 non-null     int64  \n",
      " 12  r         39 non-null     float64\n",
      " 13  i         39 non-null     float64\n",
      " 14  영업이익r     39 non-null     int64  \n",
      " 15  영업이익i     39 non-null     int64  \n",
      "dtypes: float64(2), int64(12), object(2)\n",
      "memory usage: 5.0+ KB\n"
     ]
    }
   ],
   "source": [
    "gs.info()"
   ]
  },
  {
   "cell_type": "code",
   "execution_count": 60,
   "metadata": {},
   "outputs": [
    {
     "name": "stderr",
     "output_type": "stream",
     "text": [
      "C:\\Users\\AHR\\anaconda3\\lib\\site-packages\\matplotlib\\backends\\backend_agg.py:238: RuntimeWarning: Glyph 8722 missing from current font.\n",
      "  font.set_text(s, 0.0, flags=flags)\n",
      "C:\\Users\\AHR\\anaconda3\\lib\\site-packages\\matplotlib\\backends\\backend_agg.py:201: RuntimeWarning: Glyph 8722 missing from current font.\n",
      "  font.set_text(s, 0, flags=flags)\n"
     ]
    },
    {
     "data": {
      "image/png": "[encoded data removed]",
      "text/plain": [
       "<Figure size 432x288 with 1 Axes>"
      ]
     },
     "metadata": {},
     "output_type": "display_data"
    }
   ],
   "source": [
    "x = gs['회계년도']\n",
    "plt.title('GS')\n",
    "plt.ylabel('Gain')\n",
    "plt.grid(True)\n",
    "plt.autoscale(axis='x', tight=True)\n",
    "plt.plot(x,gs['영업이익'])\n",
    "plt.show()"
   ]
  },
  {
   "cell_type": "markdown",
   "metadata": {},
   "source": [
    "## LSTM + F.C"
   ]
  },
  {
   "cell_type": "markdown",
   "metadata": {},
   "source": [
    "### Data_setting"
   ]
  },
  {
   "cell_type": "code",
   "execution_count": 5,
   "metadata": {},
   "outputs": [],
   "source": [
    "def data_setting(df):\n",
    "    df = df.values.astype(float)\n",
    "\n",
    "    test_data_size = 1\n",
    "    train_data = df[:-test_data_size]\n",
    "    test_data = df[-test_data_size:]\n",
    "    \n",
    "    scaler = MinMaxScaler(feature_range=(-1, 1))\n",
    "    \n",
    "    train_data_normalized = scaler.fit_transform(train_data .reshape(-1, 1))\n",
    "    train_data_normalized = torch.FloatTensor(train_data_normalized).view(-1)\n",
    "    \n",
    "    return train_data_normalized, test_data, scaler"
   ]
  },
  {
   "cell_type": "markdown",
   "metadata": {},
   "source": [
    "### Create_inout_sequences\n",
    "in : train_data_normalized, feature_window, period\n",
    "1. LSTM에 들어갈 input data를 데이터 주기와 피쳐수를 기반으로 sequence를 생성\n",
    "\n",
    "out : sequence"
   ]
  },
  {
   "cell_type": "code",
   "execution_count": 6,
   "metadata": {},
   "outputs": [],
   "source": [
    "def create_inout_sequences(input_data, fw, period):\n",
    "    inout_seq = []\n",
    "    L = len(input_data)\n",
    "    \n",
    "    for i in range(0, L-period*fw, fw):\n",
    "        train_seq = input_data[i:i+period*fw]\n",
    "        train_label = input_data[i+(period+1)*fw-1:i+(period+1)*fw]\n",
    "        inout_seq.append((train_seq ,train_label))\n",
    "        \n",
    "    return inout_seq"
   ]
  },
  {
   "cell_type": "markdown",
   "metadata": {},
   "source": [
    "### LSTM+F.C"
   ]
  },
  {
   "cell_type": "code",
   "execution_count": 7,
   "metadata": {},
   "outputs": [],
   "source": [
    "class LSTM(nn.Module):\n",
    "    \n",
    "    def __init__(self, fw, period, layers, hidden_layer_size = 250, output_size = 1):\n",
    "        super().__init__()\n",
    "        self.input_size = fw\n",
    "        self.hidden_layer_size = hidden_layer_size\n",
    "        self.output_size = output_size\n",
    "        self.period = period\n",
    "        self.layers = layers\n",
    "\n",
    "\n",
    "        self.lstm = nn.LSTM(self.input_size, self.hidden_layer_size, num_layers = layers)\n",
    "\n",
    "        self.linear = nn.Sequential(\n",
    "            nn.Linear(hidden_layer_size, 50),\n",
    "            nn.Linear(50, self.output_size)\n",
    "        )\n",
    "\n",
    "        self.hidden_cell = (torch.zeros(layers,period,hidden_layer_size),\n",
    "                       torch.zeros(layers,period,hidden_layer_size))\n",
    "\n",
    "    def forward(self, input_seq):\n",
    "        lstm_out, _ = self.lstm(input_seq.view(-1 ,self.period, self.input_size), self.hidden_cell) \n",
    "        predictions = self.linear(lstm_out.view(self.period, self.hidden_layer_size))\n",
    "        return predictions[-self.output_size:]"
   ]
  },
  {
   "cell_type": "code",
   "execution_count": 8,
   "metadata": {},
   "outputs": [],
   "source": [
    "train_window = 3\n",
    "period = 4\n",
    "learning_rate = 0.01\n",
    "layers = 3"
   ]
  },
  {
   "cell_type": "code",
   "execution_count": 9,
   "metadata": {},
   "outputs": [],
   "source": [
    "df = gs.loc[:,['유동자산', '매출총이익', '영업이익']]\n",
    "train_data_normalized,test_data,scaler = data_setting(df)\n",
    "train_inout_seq = create_inout_sequences(train_data_normalized, train_window, period)"
   ]
  },
  {
   "cell_type": "code",
   "execution_count": 10,
   "metadata": {},
   "outputs": [],
   "source": [
    "model = LSTM(train_window,period, layers)"
   ]
  },
  {
   "cell_type": "code",
   "execution_count": 11,
   "metadata": {},
   "outputs": [
    {
     "name": "stdout",
     "output_type": "stream",
     "text": [
      "epoch:   1 loss: 0.06352742\n",
      "epoch:  26 loss: 0.03877692\n",
      "epoch:  51 loss: 0.03771861\n",
      "epoch:  76 loss: 0.05092982\n",
      "epoch: 101 loss: 0.01982546\n",
      "epoch: 126 loss: 0.02223150\n",
      "epoch: 151 loss: 0.02259693\n",
      "epoch: 176 loss: 0.02177601\n",
      "epoch: 201 loss: 0.02214283\n",
      "epoch: 226 loss: 0.02248850\n",
      "epoch: 251 loss: 0.02994714\n",
      "epoch: 276 loss: 0.03225714\n",
      "epoch: 301 loss: 0.03794438\n",
      "epoch: 326 loss: 0.02255433\n",
      "epoch: 351 loss: 0.03065403\n",
      "epoch: 376 loss: 0.04117944\n",
      "epoch: 401 loss: 0.02281314\n",
      "epoch: 426 loss: 0.02220714\n",
      "epoch: 451 loss: 0.02256430\n",
      "epoch: 476 loss: 0.03326921\n",
      "epoch: 499 loss: 0.0281095952\n"
     ]
    }
   ],
   "source": [
    "loss_function = torch.nn.MSELoss()\n",
    "optimizer = torch.optim.Adam(model.parameters(), lr=learning_rate)\n",
    "\n",
    "epochs = 500\n",
    "\n",
    "for i in range(epochs):\n",
    "    for seq, labels in train_inout_seq:\n",
    "        optimizer.zero_grad()\n",
    "        y_pred = model(seq)[0]\n",
    "        single_loss = loss_function(y_pred, labels)\n",
    "        single_loss.backward()\n",
    "        optimizer.step()\n",
    "\n",
    "    if i%25 == 1:\n",
    "        print(f'epoch: {i:3} loss: {single_loss.item():10.8f}')\n",
    "\n",
    "print(f'epoch: {i:3} loss: {single_loss.item():10.10f}')"
   ]
  },
  {
   "cell_type": "code",
   "execution_count": 12,
   "metadata": {},
   "outputs": [],
   "source": [
    "fut_pred = 1\n",
    "test_inputs = train_data_normalized[-period*train_window:].tolist()"
   ]
  },
  {
   "cell_type": "code",
   "execution_count": 13,
   "metadata": {},
   "outputs": [
    {
     "data": {
      "text/plain": [
       "3"
      ]
     },
     "execution_count": 13,
     "metadata": {},
     "output_type": "execute_result"
    }
   ],
   "source": [
    "len(test_inputs)"
   ]
  },
  {
   "cell_type": "code",
   "execution_count": 14,
   "metadata": {},
   "outputs": [
    {
     "data": {
      "text/plain": [
       "tensor([[-0.7577]], grad_fn=<SliceBackward>)"
      ]
     },
     "execution_count": 14,
     "metadata": {},
     "output_type": "execute_result"
    }
   ],
   "source": [
    "model(seq)"
   ]
  },
  {
   "cell_type": "code",
   "execution_count": 15,
   "metadata": {},
   "outputs": [],
   "source": [
    "model.eval()\n",
    "\n",
    "for i in [1]:\n",
    "    seq = torch.FloatTensor(test_inputs[-period*train_window:])\n",
    "    pred = model(seq)\n",
    "    with torch.no_grad():\n",
    "        test_inputs.append(float(model(seq)[-1]))"
   ]
  },
  {
   "cell_type": "code",
   "execution_count": 16,
   "metadata": {},
   "outputs": [],
   "source": [
    "actual_predictions = scaler.inverse_transform(np.array(test_inputs[-fut_pred:]).reshape(-1, 1))\n",
    "ans = gs['영업이익'][-5:]"
   ]
  },
  {
   "cell_type": "code",
   "execution_count": 17,
   "metadata": {},
   "outputs": [
    {
     "data": {
      "text/plain": [
       "array([154106.09422773])"
      ]
     },
     "execution_count": 17,
     "metadata": {},
     "output_type": "execute_result"
    }
   ],
   "source": [
    "actual_predictions[0]"
   ]
  },
  {
   "cell_type": "code",
   "execution_count": 18,
   "metadata": {},
   "outputs": [
    {
     "data": {
      "text/plain": [
       "38    680931\n",
       "Name: 영업이익, dtype: int64"
      ]
     },
     "execution_count": 18,
     "metadata": {},
     "output_type": "execute_result"
    }
   ],
   "source": [
    "ans[-1:]"
   ]
  },
  {
   "cell_type": "code",
   "execution_count": 19,
   "metadata": {},
   "outputs": [],
   "source": [
    "RMSE = mean_squared_error(ans[-1:],actual_predictions[0])**0.5"
   ]
  },
  {
   "cell_type": "code",
   "execution_count": 20,
   "metadata": {},
   "outputs": [
    {
     "data": {
      "text/plain": [
       "526824.9057722688"
      ]
     },
     "execution_count": 20,
     "metadata": {},
     "output_type": "execute_result"
    }
   ],
   "source": [
    "RMSE"
   ]
  },
  {
   "cell_type": "code",
   "execution_count": null,
   "metadata": {},
   "outputs": [],
   "source": []
  }
 ],
 "metadata": {
  "kernelspec": {
   "display_name": "Python 3",
   "language": "python",
   "name": "python3"
  },
  "language_info": {
   "codemirror_mode": {
    "name": "ipython",
    "version": 3
   },
   "file_extension": ".py",
   "mimetype": "text/x-python",
   "name": "python",
   "nbconvert_exporter": "python",
   "pygments_lexer": "ipython3",
   "version": "3.7.9"
  }
 },
 "nbformat": 4,
 "nbformat_minor": 4
}
